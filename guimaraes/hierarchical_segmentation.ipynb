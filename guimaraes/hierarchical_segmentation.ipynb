{
 "cells": [
  {
   "cell_type": "markdown",
   "metadata": {},
   "source": [
    "Thais Lima de Sousa. October, 2016"
   ]
  },
  {
   "cell_type": "markdown",
   "metadata": {},
   "source": [
    "# Hierarchical Image Segmentation based on an observation scale\n",
    "## Guimarães and Najman's algorithm"
   ]
  },
  {
   "cell_type": "code",
   "execution_count": 1,
   "metadata": {
    "collapsed": true
   },
   "outputs": [],
   "source": [
    "from vpi.io import *\n",
    "from vpi.filters import convolve, normalize\n",
    "import numpy as np\n",
    "import networkx as nx"
   ]
  },
  {
   "cell_type": "code",
   "execution_count": 2,
   "metadata": {
    "collapsed": true
   },
   "outputs": [],
   "source": [
    "# gaussian filter for image smoothing\n",
    "\n",
    "def create_gauss_kernel(sigma):\n",
    "    length = int(np.ceil(4*sigma)) + 1\n",
    "    k = np.zeros((1, length))\n",
    "    for i in range(length):\n",
    "        k[0][i] = np.exp(-0.5*np.square(i/sigma))\n",
    "    k = k / k.sum()\n",
    "\n",
    "    return k\n",
    "\n",
    "def smooth(img, sigma):\n",
    "    if sigma < 0.1:\n",
    "        return img\n",
    "    kernel = create_gauss_kernel(sigma)  \n",
    "    g = convolve(img, kernel)\n",
    "    g = convolve(g, np.transpose(kernel))\n",
    "    return g"
   ]
  },
  {
   "cell_type": "code",
   "execution_count": 57,
   "metadata": {
    "collapsed": true
   },
   "outputs": [],
   "source": [
    "# disjoint-set forest with union rank and path compression\n",
    "\n",
    "class UF:\n",
    "    def __init__(self, n):\n",
    "        self.num = n\n",
    "        self.parent = list(range(n))\n",
    "        self.rank = [0 for i in range(n)]\n",
    "        self.size = [1 for i in range(n)]\n",
    "    \n",
    "    def find(self, v):\n",
    "        w = v\n",
    "        while(w != self.parent[w]):\n",
    "            w = self.parent[w]\n",
    "        self.parent[v] = w\n",
    "        return w\n",
    "    \n",
    "    def union(self, x, y):\n",
    "        xR = self.find(x)\n",
    "        yR = self.find(y)\n",
    "        if xR == yR:\n",
    "            return\n",
    "        \n",
    "        if self.rank[xR] > self.rank[yR]:\n",
    "            self.parent[yR] = xR\n",
    "            self.size[xR] += self.size[yR]\n",
    "        \n",
    "        else:\n",
    "            self.parent[xR] = yR\n",
    "            self.size[yR] += self.size[xR]\n",
    "            if self.rank[xR] == self.rank[yR]:\n",
    "                self.rank[yR] += 1\n",
    "        self.num -= 1\n",
    "        \n",
    "    def sizec(self, x):\n",
    "        x = self.find(x)\n",
    "        return self.size[x]\n",
    "    \n",
    "    def num_sets(self):\n",
    "        return self.num\n",
    "    \n",
    "    # for debugging\n",
    "    \n",
    "    def print_parent(self, x):\n",
    "        return self.parent[x]\n",
    "    \n",
    "    def print_rank(self, x):\n",
    "        return self.rank[x]"
   ]
  },
  {
   "cell_type": "code",
   "execution_count": 123,
   "metadata": {
    "collapsed": false
   },
   "outputs": [],
   "source": [
    "def build_hierarchies(G):\n",
    "    V = len(G)\n",
    "    mst = nx.minimum_spanning_edges(G)\n",
    "    mst = list(mst)\n",
    "    Pw = UF(V)\n",
    "    Gh = nx.Graph()\n",
    "    Int = [0.0]*V\n",
    "    \n",
    "    for (x, y, w) in mst:\n",
    "        a = Pw.find(x)\n",
    "        b = Pw.find(y)\n",
    "        w = w['weight']\n",
    "        # print(\"%d-%d w= %.2f. a= %d, b=%d. Int(a)= %.2f, Int(b)=%.2f\" % (x,y,w,a,b, Int[a], Int[b]))\n",
    "        Sa = (w - Int[a])*Pw.sizec(a)\n",
    "        Sb = (w - Int[b])*Pw.sizec(b)\n",
    "        if Sa >= Sb: Gh.add_edge(x, y, weight=Sa)\n",
    "        else: Gh.add_edge(x, y, weight=Sb)\n",
    "        Pw.union(a, b)\n",
    "        Int[Pw.find(a)] = w\n",
    "        \n",
    "    return Gh\n",
    "        \n",
    "\n",
    "def segment_graph(G, k=0):\n",
    "    V = len(G)\n",
    "    u = UF(V)\n",
    "    H = build_hierarchies(G)\n",
    "    visited = [False]*V\n",
    "    dfst = nx.dfs_tree(H, 0)\n",
    "    top = nx.topological_sort(dfst)\n",
    "    print(top)\n",
    "    \n",
    "    for x in range(V):\n",
    "        if not visited[x]:\n",
    "            visited[x] = True\n",
    "            for y in H.neighbors(x):\n",
    "                L = H.get_edge_data(x, y)['weight']\n",
    "                print('(%d, %d, %.2f)'%(x, y, L))\n",
    "        \n",
    "                if L < k:\n",
    "                    print(\"junta %d e %d\" % (x, y))\n",
    "                    u.union(x, y)\n",
    "                    print(\"p[%d]=%d. p[%d]=%d\" % (x, u.print_parent(x), y, u.print_parent(y)))            \n",
    "    \n",
    "    for v in range(V):\n",
    "        print(\"%d, p=%d\" % (v, u.print_parent(v)))\n",
    "        \n",
    "    \n",
    "    \n",
    "    "
   ]
  },
  {
   "cell_type": "code",
   "execution_count": 124,
   "metadata": {
    "collapsed": false
   },
   "outputs": [
    {
     "name": "stdout",
     "output_type": "stream",
     "text": [
      "[0, 3, 4, 5, 2, 1]\n",
      "(0, 3, 1.00)\n",
      "junta 0 e 3\n",
      "p[0]=3. p[3]=3\n",
      "(1, 2, 10.00)\n",
      "(2, 1, 10.00)\n",
      "(2, 5, 8.00)\n",
      "junta 2 e 5\n",
      "p[2]=5. p[5]=5\n",
      "(3, 0, 1.00)\n",
      "junta 3 e 0\n",
      "p[3]=3. p[0]=3\n",
      "(3, 4, 1.00)\n",
      "junta 3 e 4\n",
      "p[3]=3. p[4]=3\n",
      "(4, 3, 1.00)\n",
      "junta 4 e 3\n",
      "p[4]=3. p[3]=3\n",
      "(4, 5, 1.00)\n",
      "junta 4 e 5\n",
      "p[4]=3. p[5]=5\n",
      "(5, 2, 8.00)\n",
      "junta 5 e 2\n",
      "p[5]=5. p[2]=5\n",
      "(5, 4, 1.00)\n",
      "junta 5 e 4\n",
      "p[5]=5. p[4]=5\n",
      "0, p=3\n",
      "1, p=1\n",
      "2, p=5\n",
      "3, p=5\n",
      "4, p=5\n",
      "5, p=5\n"
     ]
    }
   ],
   "source": [
    "G = nx.Graph()\n",
    "G.add_edge(0, 1, weight=11)\n",
    "G.add_edge(1, 2, weight=5)\n",
    "G.add_edge(0, 3, weight=1)\n",
    "G.add_edge(1, 4, weight=9)\n",
    "G.add_edge(2, 5, weight=3)\n",
    "G.add_edge(3, 4, weight=1)\n",
    "G.add_edge(4, 5, weight=1)\n",
    "\n",
    "segment_graph(G, 9)"
   ]
  },
  {
   "cell_type": "code",
   "execution_count": 76,
   "metadata": {
    "collapsed": false
   },
   "outputs": [
    {
     "name": "stdout",
     "output_type": "stream",
     "text": [
      "0-3 w= 1.00. a= 0, b=3. Int(a)= 0.00, Int(b)=0.00\n",
      "1-4 w= 2.00. a= 1, b=4. Int(a)= 0.00, Int(b)=0.00\n",
      "1-2 w= 3.00. a= 4, b=2. Int(a)= 2.00, Int(b)=0.00\n",
      "2-5 w= 5.00. a= 4, b=5. Int(a)= 3.00, Int(b)=0.00\n",
      "0-1 w= 9.00. a= 3, b=4. Int(a)= 1.00, Int(b)=5.00\n",
      "(0, 1, 16.00)\n",
      "(0, 3, 1.00)\n",
      "(1, 2, 3.00)\n",
      "(1, 4, 2.00)\n",
      "(2, 5, 6.00)\n"
     ]
    }
   ],
   "source": [
    "G = nx.Graph()\n",
    "G.add_edge(0, 1, weight=9)\n",
    "G.add_edge(1, 2, weight=3)\n",
    "G.add_edge(0, 3, weight=1)\n",
    "G.add_edge(1, 4, weight=2)\n",
    "G.add_edge(2, 5, weight=5)\n",
    "G.add_edge(3, 4, weight=11)\n",
    "G.add_edge(4, 5, weight=7)\n",
    "\n",
    "build_hierarchies(G)"
   ]
  },
  {
   "cell_type": "code",
   "execution_count": null,
   "metadata": {
    "collapsed": true
   },
   "outputs": [],
   "source": []
  }
 ],
 "metadata": {
  "kernelspec": {
   "display_name": "Python 3",
   "language": "python",
   "name": "python3"
  },
  "language_info": {
   "codemirror_mode": {
    "name": "ipython",
    "version": 3
   },
   "file_extension": ".py",
   "mimetype": "text/x-python",
   "name": "python",
   "nbconvert_exporter": "python",
   "pygments_lexer": "ipython3",
   "version": "3.5.1"
  }
 },
 "nbformat": 4,
 "nbformat_minor": 0
}
