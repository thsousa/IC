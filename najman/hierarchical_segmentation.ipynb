{
 "cells": [
  {
   "cell_type": "markdown",
   "metadata": {},
   "source": [
    "Thais Lima de Sousa. October, 2016"
   ]
  },
  {
   "cell_type": "markdown",
   "metadata": {},
   "source": [
    "# Hierarchical Image Segmentation based on an observation scale\n",
    "## Guimarães and Najman's algorithm"
   ]
  },
  {
   "cell_type": "code",
   "execution_count": 1,
   "metadata": {
    "collapsed": true
   },
   "outputs": [],
   "source": [
    "from vpi.io import *\n",
    "from vpi.filters import convolve, normalize\n",
    "import numpy as np\n",
    "import networkx as nx"
   ]
  },
  {
   "cell_type": "code",
   "execution_count": 2,
   "metadata": {
    "collapsed": true
   },
   "outputs": [],
   "source": [
    "# gaussian filter for image smoothing\n",
    "\n",
    "def create_gauss_kernel(sigma):\n",
    "    length = int(np.ceil(4*sigma)) + 1\n",
    "    k = np.zeros((1, length))\n",
    "    for i in range(length):\n",
    "        k[0][i] = np.exp(-0.5*np.square(i/sigma))\n",
    "    k = k / k.sum()\n",
    "\n",
    "    return k\n",
    "\n",
    "def smooth(img, sigma):\n",
    "    if sigma < 0.1:\n",
    "        return img\n",
    "    kernel = create_gauss_kernel(sigma)  \n",
    "    g = convolve(img, kernel)\n",
    "    g = convolve(g, np.transpose(kernel))\n",
    "    return g"
   ]
  },
  {
   "cell_type": "code",
   "execution_count": 3,
   "metadata": {
    "collapsed": true
   },
   "outputs": [],
   "source": [
    "# disjoint-set forest with union rank and path compression\n",
    "\n",
    "class UF:\n",
    "    def __init__(self, n):\n",
    "        self.num = n\n",
    "        self.parent = list(range(n))\n",
    "        self.rank = [0 for i in range(n)]\n",
    "        self.size = [1 for i in range(n)]\n",
    "    \n",
    "    def find(self, v):\n",
    "        w = v\n",
    "        while(w != self.parent[w]):\n",
    "            w = self.parent[w]\n",
    "        self.parent[v] = w\n",
    "        return w\n",
    "    \n",
    "    def union(self, x, y):\n",
    "        xR = self.find(x)\n",
    "        yR = self.find(y)\n",
    "        if xR == yR:\n",
    "            return\n",
    "        \n",
    "        if self.rank[xR] > self.rank[yR]:\n",
    "            self.parent[yR] = xR\n",
    "            self.size[xR] += self.size[yR]\n",
    "        \n",
    "        else:\n",
    "            self.parent[xR] = yR\n",
    "            self.size[yR] += self.size[xR]\n",
    "            if self.rank[xR] == self.rank[yR]:\n",
    "                self.rank[yR] += 1\n",
    "        self.num -= 1\n",
    "        \n",
    "    def sizec(self, x):\n",
    "        x = self.find(x)\n",
    "        return self.size[x]\n",
    "    \n",
    "    def num_sets(self):\n",
    "        return self.num\n",
    "    \n",
    "    # for debugging \n",
    "    def print_rank(self, x):\n",
    "        return self.rank[x]"
   ]
  },
  {
   "cell_type": "code",
   "execution_count": 4,
   "metadata": {
    "collapsed": false
   },
   "outputs": [],
   "source": [
    "def build_hierarchies(G):\n",
    "    V = len(G)\n",
    "    mst = nx.minimum_spanning_edges(G)\n",
    "    mst = list(mst)\n",
    "    Pw = UF(V)\n",
    "    Gh = nx.Graph()\n",
    "    Int = [0.0]*V\n",
    "    \n",
    "    for (x, y, w) in mst:\n",
    "        a = Pw.find(x)\n",
    "        b = Pw.find(y)\n",
    "        w = w['weight']\n",
    "        # print(\"%d-%d w= %.2f. a= %d, b=%d. Int(a)= %.2f, Int(b)=%.2f\" % (x,y,w,a,b, Int[a], Int[b]))\n",
    "        Sa = (w - Int[a])*Pw.sizec(a)\n",
    "        Sb = (w - Int[b])*Pw.sizec(b)\n",
    "        if Sa >= Sb: Gh.add_edge(x, y, weight=Sa)\n",
    "        else: Gh.add_edge(x, y, weight=Sb)\n",
    "        Pw.union(a, b)\n",
    "        Int[Pw.find(a)] = w\n",
    "        \n",
    "    return Gh\n",
    "        \n",
    "\n",
    "def segment_graph(G, k):\n",
    "    Pl = UF(len(G))\n",
    "    H = build_hierarchies(G)\n",
    "    edge_list = H.edges()\n",
    "    \n",
    "    for (x, y) in edge_list:\n",
    "        L = H.get_edge_data(x, y)['weight']\n",
    "        if L < k: Pl.union(x, y)\n",
    "    \n",
    "    return Pl, edge_list"
   ]
  },
  {
   "cell_type": "code",
   "execution_count": 8,
   "metadata": {
    "collapsed": true
   },
   "outputs": [],
   "source": [
    "def diff(r, g, b, x1, y1, x2, y2):\n",
    "    return np.sqrt(np.square(float(r[x1, y1]) - float(r[x2, y2]))\n",
    "                  + np.square(float(g[x1, y1]) - float(g[x2, y2]))\n",
    "                  + np.square(float(b[x1, y1]) - float(b[x2, y2])))\n",
    "\n",
    "\n",
    "def segment_image(im, sigma, k, min_size):\n",
    "    r = smooth(im[:,:,0], sigma)\n",
    "    g = smooth(im[:,:,1], sigma)\n",
    "    b = smooth(im[:,:,2], sigma)\n",
    "    \n",
    "\n",
    "    G = nx.Graph()\n",
    "    H, W = r.shape[0:2]\n",
    "\n",
    "    # build weighted edges, 8-connected\n",
    "    for x in range(H):\n",
    "        for y in range(W):\n",
    "            if y < W - 1:\n",
    "                G.add_edge(x*W + y, x*W + (y+1), weight=diff(r, g, b, x, y, x, y+1))\n",
    "            if x < H - 1:\n",
    "                G.add_edge(x*W + y, (x+1)*W + y, weight=diff(r, g, b, x, y, x+1, y))\n",
    "            if (x < H - 1 and y < W - 1): \n",
    "                G.add_edge(x*W + y, (x+1)*W + (y + 1), weight=diff(r, g, b, x, y, x+1, y+1))\n",
    "            if (y < W - 1 and x > 0): \n",
    "                G.add_edge(x*W + y, (x-1)*W + (y + 1), weight=diff(r, g, b, x, y, x-1, y+1))\n",
    "    \n",
    "    u, edge_list2 = segment_graph(G, k)\n",
    "    \n",
    "    # post process small components\n",
    "    for (a, b) in edge_list2:\n",
    "        a = u.find(a)\n",
    "        b = u.find(b)\n",
    "        \n",
    "        if (a != b and ((u.sizec(a) < min_size) or (u.sizec(b) < min_size))):\n",
    "            u.union(a, b)\n",
    "        \n",
    "    num_ccs = u.num_sets()\n",
    "\n",
    "    # pick random colors for the components\n",
    "    colors = np.random.uniform(0, 255, 3*H*W).reshape(H*W, 3)\n",
    "    output = np.zeros((im.shape))\n",
    "    \n",
    "    for x in range(H):\n",
    "        for y in range(W):\n",
    "            comp = u.find(x*W + y)\n",
    "            for i in range(3):\n",
    "                output[x, y, i] = colors[comp, i]\n",
    "    \n",
    "    return output, num_ccs   "
   ]
  },
  {
   "cell_type": "code",
   "execution_count": 9,
   "metadata": {
    "collapsed": false
   },
   "outputs": [],
   "source": [
    "# read input\n",
    "\n",
    "def hierarchical_segmentation(img_name, sigma, k, min_size):\n",
    "    img = read_image(img_name)\n",
    "    print('Original image:')\n",
    "    display_image(img)\n",
    "    # save output and display segmentation\n",
    "    output, num_css = segment_image(img, sigma, k, min_size)\n",
    "    print('Found %d components' % num_css)\n",
    "    display_image(output)"
   ]
  },
  {
   "cell_type": "code",
   "execution_count": 20,
   "metadata": {
    "collapsed": false
   },
   "outputs": [
    {
     "name": "stdout",
     "output_type": "stream",
     "text": [
      "Original image:\n"
     ]
    },
    {
     "data": {
      "image/png": "[encoded data removed]",
      "text/plain": [
       "<IPython.core.display.Image object>"
      ]
     },
     "metadata": {},
     "output_type": "display_data"
    },
    {
     "name": "stdout",
     "output_type": "stream",
     "text": [
      "Found 26 components\n"
     ]
    },
    {
     "data": {
      "image/png": "[encoded data removed]",
      "text/plain": [
       "<IPython.core.display.Image object>"
      ]
     },
     "metadata": {},
     "output_type": "display_data"
    }
   ],
   "source": [
    "hierarchical_segmentation('images/img1.pnm', 0, 50, 20)"
   ]
  },
  {
   "cell_type": "code",
   "execution_count": null,
   "metadata": {
    "collapsed": true
   },
   "outputs": [],
   "source": []
  }
 ],
 "metadata": {
  "kernelspec": {
   "display_name": "Python 3",
   "language": "python",
   "name": "python3"
  },
  "language_info": {
   "codemirror_mode": {
    "name": "ipython",
    "version": 3
   },
   "file_extension": ".py",
   "mimetype": "text/x-python",
   "name": "python",
   "nbconvert_exporter": "python",
   "pygments_lexer": "ipython3",
   "version": "3.5.1"
  }
 },
 "nbformat": 4,
 "nbformat_minor": 0
}
