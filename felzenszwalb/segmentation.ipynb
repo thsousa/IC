{
 "cells": [
  {
   "cell_type": "markdown",
   "metadata": {},
   "source": [
    "Thais Lima de Sousa\n",
    "\n",
    "# Efficient Graph-Based Image Segmentation\n",
    "## Falzenszwalb e Huttenlocher's algorithm"
   ]
  },
  {
   "cell_type": "code",
   "execution_count": 2,
   "metadata": {
    "collapsed": false
   },
   "outputs": [],
   "source": [
    "from vpi.io import *\n",
    "from vpi.filters import convolve, normalize\n",
    "import numpy as np\n",
    "import sys\n",
    "import networkx as nx"
   ]
  },
  {
   "cell_type": "code",
   "execution_count": 21,
   "metadata": {
    "collapsed": true
   },
   "outputs": [],
   "source": [
    "# gaussian filter for image smoothing\n",
    "\n",
    "def create_gauss_kernel(sigma):\n",
    "    x = np.arange(- 4*sigma, 4*sigma + 1)\n",
    "    k = np.zeros((1, x.size))\n",
    "    length = int(np.ceil(8*sigma) + 1\n",
    "    for i in range(length):\n",
    "        k[0][i] = np.exp(- x[i]**2 / 2*(sigma**2)) / (2*np.pi*(sigma**2))\n",
    "    k = k / k.sum()\n",
    "\n",
    "    return k\n",
    "\n",
    "def smooth(img, sigma=0.8):\n",
    "    kernel = create_gauss_kernel(sigma)  \n",
    "    g = convolve(img, kernel)\n",
    "    g = convolve(g, np.transpose(kernel))\n",
    "    return g"
   ]
  },
  {
   "cell_type": "code",
   "execution_count": 5,
   "metadata": {
    "collapsed": false
   },
   "outputs": [],
   "source": [
    "# disjoint-set forest with union rank and path compression\n",
    "\n",
    "class UF:\n",
    "    num = 0\n",
    "\n",
    "    def __init__(self, n):\n",
    "        num = n\n",
    "        self.parent = list(range(n))\n",
    "        self.rank = [0 for i in range(n)]\n",
    "        self.size = [1 for i in range(n)]\n",
    "    \n",
    "    def find(self, v):\n",
    "        w = v\n",
    "        while(w != self.parent[w]):\n",
    "            w = self.parent[w]\n",
    "        self.parent[v] = w\n",
    "        return w\n",
    "    \n",
    "    def join(self, x, y):\n",
    "        if self.rank[x] > self.rank[y]:\n",
    "            self.parent[y] = x\n",
    "            self.size[x] += self.size[y]\n",
    "        \n",
    "        else:\n",
    "            self.parent[x] = y\n",
    "            self.size[y] += self.size[x]\n",
    "            if self.rank[x] == self.rank[y]:\n",
    "                self.rank[y]++\n",
    "        num--\n",
    "        \n",
    "    def size(self, x):\n",
    "        return self.size[x]\n",
    "        "
   ]
  },
  {
   "cell_type": "code",
   "execution_count": null,
   "metadata": {
    "collapsed": true
   },
   "outputs": [],
   "source": [
    "# graph segmentation\n",
    "\n",
    "def threshold(size, c):\n",
    "    return c/size\n",
    "\n",
    "def segment_graph(G, k):\n",
    "    V = len(G)\n",
    "    E = G.size()\n",
    "    \n",
    "    u = UF(V)\n",
    "    edges = list(G.edges_iter(data='weight'))\n",
    "    sortedEdges = edges.sort(key=lambda w:w[2])\n",
    "    \n",
    "    # init thresholdings\n",
    "    thresholding = V*[None]\n",
    "    for i in range(V):\n",
    "        thresholding[i] = threshold(1.0, c)\n",
    "        \n",
    "    for i in range(V):\n",
    "        pedge = sortedEdges[i]\n",
    "        # components connected by this edge\n",
    "        a = u.find(pedge[0])\n",
    "        b = u.find(pedge[1])\n",
    "        \n",
    "        if not a == b:\n",
    "            if pedge[2] <= thresholding[a] and pedge[2] <= thresholding[b]:\n",
    "                u.join(a, b)\n",
    "                a = u.find(a)\n",
    "                thresholding[a] = pedge[2] + threshold(u.size(a), c)\n",
    "                \n",
    "    return u   \n",
    "    \n",
    "    "
   ]
  },
  {
   "cell_type": "code",
   "execution_count": 11,
   "metadata": {
    "collapsed": true
   },
   "outputs": [],
   "source": [
    "def diff(r, g, b, x1, y1, x2, y2):\n",
    "    return np.sqrt(np.square(r[x1, y1] - r[x2, y2])\n",
    "                  + np.square(g[x1, y1] - g[x2, y2])\n",
    "                  + np.square(b[x1, y1] - b[x2, y2]))\n",
    "\n",
    "def segment_image(im, sigma, k, min_size, num_ccs):\n",
    "    H, W = im.shape[0:2]\n",
    "    r = smooth(im[:,:,0])\n",
    "    g = smooth(im[:,:,1])\n",
    "    b = smooth(im[:,:,2])\n",
    "    \n",
    "    # build weighted edges, 8-connected\n",
    "    G = nx.Graph()\n",
    "    \n",
    "    for y in range(H):\n",
    "        for x in range(W):\n",
    "            if x < W - 1: G.add_edge(y*W + x, y*W + (x+1), weight = diff(r, g, b, x, y, x+1, y))\n",
    "            if y < H - 1: G.add_edge(y*W + x, (y+1)*W + x, diff(r, g, b, x, y, x, y+1))\n",
    "            if (x < W - 1) and (y < H - 1): G.add_edge(diff(y*w + x, (y+1)*W + (x+1), diff(r, g, b, x, y, x+1, y+1)))\n",
    "            if (x < W - 1) and (y > 0): G.add_edge(y*W + x, (y-1)*W + (x + 1), diff(r, g, b, x, y, x+1, y-1))\n",
    "    \n",
    "    u = segment_graph(G, k)\n",
    "    \n",
    "    # post process small components\n",
    "    num = G.size()\n",
    "    \n",
    "    for i in range(num)\n",
    "    \n",
    "    "
   ]
  },
  {
   "cell_type": "code",
   "execution_count": null,
   "metadata": {
    "collapsed": true
   },
   "outputs": [],
   "source": [
    "class InputException(Exception):\n",
    "    def __init__(self, msg):\n",
    "        self.msg = msg\n",
    "    def __str__(self):\n",
    "        return self.msg\n",
    "\n",
    "\n",
    "# read input\n",
    "\n",
    "def main:\n",
    "    if len(sys.argv) != 6: raise InputException('usage: %s sigma k min_size input_name output_name' % sys.argv[0])\n",
    "    sigma = float(sys.argv[1])\n",
    "    k = float(sys.argv[2])\n",
    "    min_size = int(sys.argv[3])\n",
    "    input = read_image(sys.argv[4])\n",
    "    \n",
    "    num_ccs = 0    \n",
    "    # save output and display segmentation\n",
    "    # output = segment_image(input, sigma, k, min_size, num_ccs)\n",
    "\n",
    "        \n",
    "        \n",
    "\n",
    "if __name__ == '__main__':\n",
    "    main()"
   ]
  },
  {
   "cell_type": "code",
   "execution_count": 23,
   "metadata": {
    "collapsed": false
   },
   "outputs": [
    {
     "name": "stdout",
     "output_type": "stream",
     "text": [
      "(0, 1, 1)\n",
      "(0, 2, 0.5)\n",
      "(1, 2, 2)\n",
      "sort\n",
      "(0, 2, 0.5)\n",
      "(0, 1, 1)\n",
      "(1, 2, 2)\n"
     ]
    }
   ],
   "source": [
    "# f = read_image(\"img1.png\")\n",
    "# print(smooth(f[:,:,0]))\n",
    "\n",
    "T = nx.Graph()\n",
    "T.add_edge(0, 1, weight=1)\n",
    "T.add_edge(1, 2, weight=2)\n",
    "T.add_edge(0, 2, weight=0.5)\n",
    "edges = list(T.edges_iter(data='weight'))\n",
    "\n",
    "for e in edges:\n",
    "    print(e)\n",
    "    \n",
    "sortedEdges = edges.sort(key=lambda w:w[2])\n",
    "\n",
    "print('sort')\n",
    "for e in edges:\n",
    "    print(e)"
   ]
  },
  {
   "cell_type": "code",
   "execution_count": null,
   "metadata": {
    "collapsed": true
   },
   "outputs": [],
   "source": []
  }
 ],
 "metadata": {
  "kernelspec": {
   "display_name": "Python 3",
   "language": "python",
   "name": "python3"
  },
  "language_info": {
   "codemirror_mode": {
    "name": "ipython",
    "version": 3
   },
   "file_extension": ".py",
   "mimetype": "text/x-python",
   "name": "python",
   "nbconvert_exporter": "python",
   "pygments_lexer": "ipython3",
   "version": "3.5.1"
  }
 },
 "nbformat": 4,
 "nbformat_minor": 0
}
