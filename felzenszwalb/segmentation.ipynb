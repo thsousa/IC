{
 "cells": [
  {
   "cell_type": "markdown",
   "metadata": {},
   "source": [
    "Thais Lima de Sousa\n",
    "\n",
    "# Efficient Graph-Based Image Segmentation\n",
    "## Falzenszwalb e Huttenlocher's algorithm"
   ]
  },
  {
   "cell_type": "code",
   "execution_count": 77,
   "metadata": {
    "collapsed": false
   },
   "outputs": [],
   "source": [
    "from vpi.io import *\n",
    "from vpi.filters import convolve, normalize\n",
    "import numpy as np\n",
    "import networkx as nx"
   ]
  },
  {
   "cell_type": "code",
   "execution_count": 78,
   "metadata": {
    "collapsed": false
   },
   "outputs": [],
   "source": [
    "# gaussian filter for image smoothing\n",
    "\n",
    "def create_gauss_kernel(sigma):\n",
    "    x = np.arange(- 4*sigma, 4*sigma + 1)\n",
    "    k = np.zeros((1, x.size))\n",
    "    length = int(np.ceil(8*sigma)) + 1\n",
    "    for i in range(length):\n",
    "        k[0][i] = np.exp(- x[i]**2 / 2*(sigma**2)) / (2*np.pi*(sigma**2))\n",
    "    k = k / k.sum()\n",
    "\n",
    "    return k\n",
    "\n",
    "def smooth(img, sigma=0.8):\n",
    "    kernel = create_gauss_kernel(sigma)  \n",
    "    g = convolve(img, kernel)\n",
    "    g = convolve(g, np.transpose(kernel))\n",
    "    return g"
   ]
  },
  {
   "cell_type": "code",
   "execution_count": 100,
   "metadata": {
    "collapsed": false
   },
   "outputs": [],
   "source": [
    "# disjoint-set forest with union rank and path compression\n",
    "\n",
    "class UF:\n",
    "\n",
    "    def __init__(self, n):\n",
    "        self.num = n\n",
    "        self.parent = list(range(n))\n",
    "        self.rank = [0 for i in range(n)]\n",
    "        self.size = [1 for i in range(n)]\n",
    "    \n",
    "    def find(self, v):\n",
    "        w = v\n",
    "        while(w != self.parent[w]):\n",
    "            w = self.parent[w]\n",
    "        self.parent[v] = w\n",
    "        return w\n",
    "    \n",
    "    def join(self, x, y):\n",
    "        if self.rank[x] > self.rank[y]:\n",
    "            self.parent[y] = x\n",
    "            self.size[x] += self.size[y]\n",
    "        \n",
    "        else:\n",
    "            self.parent[x] = y\n",
    "            self.size[y] += self.size[x]\n",
    "            if self.rank[x] == self.rank[y]:\n",
    "                self.rank[y] += 1\n",
    "        self.num -= 1\n",
    "        \n",
    "    def size(self, x):\n",
    "        return self.size[x]\n",
    "    \n",
    "    def num_sets():\n",
    "        return self.num\n",
    "        "
   ]
  },
  {
   "cell_type": "code",
   "execution_count": 125,
   "metadata": {
    "collapsed": false
   },
   "outputs": [],
   "source": [
    "# graph segmentation\n",
    "\n",
    "def threshold(size, c):\n",
    "    return c/size\n",
    "\n",
    "def segment_graph(G, k):\n",
    "    V = len(G)\n",
    "    E = G.size()\n",
    "    c = 1.0*k\n",
    "    u = UF(V)\n",
    "    edges = list(G.edges_iter(data='weight'))\n",
    "    edges.sort(key=lambda w:w[2])\n",
    "    \n",
    "    \n",
    "    # init thresholdings\n",
    "    L = [None]*V\n",
    "    for i in range(V):\n",
    "        L[i] = threshold(1.0, c)\n",
    "        \n",
    "    for i in range(V):\n",
    "        pedge = edges[i]\n",
    "        # components connected by this edge\n",
    "        a = u.find(pedge[0])\n",
    "        b = u.find(pedge[1])\n",
    "        w = pedge[2]\n",
    "        \n",
    "        print(a, L[a])\n",
    "        if not a == b:\n",
    "            if w <= L[a] and w <= L[b]:\n",
    "                u.join(a, b)\n",
    "                a = u.find(a)\n",
    "                L[a] = w + threshold(u.size(a), c)\n",
    "                \n",
    "    return u, edges\n",
    "    \n",
    "    "
   ]
  },
  {
   "cell_type": "code",
   "execution_count": 123,
   "metadata": {
    "collapsed": true
   },
   "outputs": [],
   "source": [
    "def diff(r, g, b, x1, y1, x2, y2):\n",
    "    return np.sqrt(np.square(r[x1, y1] - r[x2, y2])\n",
    "                  + np.square(g[x1, y1] - g[x2, y2])\n",
    "                  + np.square(b[x1, y1] - b[x2, y2]))\n",
    "\n",
    "def segment_image(im, sigma, k, min_size):\n",
    "    H, W = im.shape[0:2]\n",
    "    r = smooth(im[:,:,0])\n",
    "    g = smooth(im[:,:,1])\n",
    "    b = smooth(im[:,:,2])\n",
    "    \n",
    "    # build weighted edges, 8-connected\n",
    "    G = nx.Graph()\n",
    "    H, W = r.shape[0:2]\n",
    "    \n",
    "    for y in range(H):\n",
    "        for x in range(W):            \n",
    "            if x < W - 1: G.add_edge(y*W + x, y*W + (x+1), weight=diff(r, g, b, x, y, x+1, y))\n",
    "            if y < H - 1: G.add_edge(y*W + x, (y+1)*W + x, weight=diff(r, g, b, x, y, x, y+1))\n",
    "            if (x < W - 1 and y < H - 1): G.add_edge(y*W + x, (y+1)*W + (x+1), weight=diff(r, g, b, x, y, x+1, y+1))\n",
    "            if (x < W - 1 and y > 0): G.add_edge(y*W + x, (y-1)*W + (x + 1), weight=diff(r, g, b, x, y, x+1, y-1))\n",
    "    \n",
    "    u, edge_list = segment_graph(G, k)\n",
    "    \n",
    "    # post process small components\n",
    "    for e in edge_list:\n",
    "        a = u.find(e[0])\n",
    "        b = u.find(e[1])\n",
    "        if (a != b and (u.size(a) < min_size) or u.size(b) < min_size):\n",
    "            u.join(a, b)\n",
    "        \n",
    "    num_ccs = u.num_sets()\n",
    "\n",
    "    # pick random colors for the components\n",
    "    colors = np.random.rand(3*H*W).reshape(H*W, 3)\n",
    "    output = im\n",
    "    \n",
    "    for y in range(H):\n",
    "        for x in range(W):\n",
    "            comp = u.find(y*W + x)\n",
    "            output[x, y] = colors[comp]\n",
    "    \n",
    "    \n",
    "    return output, num_ccs\n",
    "\n",
    "        \n",
    "    \n",
    "    "
   ]
  },
  {
   "cell_type": "code",
   "execution_count": 126,
   "metadata": {
    "collapsed": false
   },
   "outputs": [
    {
     "name": "stdout",
     "output_type": "stream",
     "text": [
      "4 100.0\n"
     ]
    },
    {
     "ename": "TypeError",
     "evalue": "'list' object is not callable",
     "output_type": "error",
     "traceback": [
      "\u001b[1;31m---------------------------------------------------------------------------\u001b[0m",
      "\u001b[1;31mTypeError\u001b[0m                                 Traceback (most recent call last)",
      "\u001b[1;32m<ipython-input-126-793fb252ad72>\u001b[0m in \u001b[0;36m<module>\u001b[1;34m()\u001b[0m\n\u001b[0;32m     10\u001b[0m \u001b[1;33m\u001b[0m\u001b[0m\n\u001b[0;32m     11\u001b[0m \u001b[1;33m\u001b[0m\u001b[0m\n\u001b[1;32m---> 12\u001b[1;33m \u001b[0mmain\u001b[0m\u001b[1;33m(\u001b[0m\u001b[1;34m'img1.png'\u001b[0m\u001b[1;33m,\u001b[0m \u001b[1;36m0.5\u001b[0m\u001b[1;33m,\u001b[0m \u001b[1;36m100\u001b[0m\u001b[1;33m,\u001b[0m \u001b[1;36m50\u001b[0m\u001b[1;33m)\u001b[0m\u001b[1;33m\u001b[0m\u001b[0m\n\u001b[0m",
      "\u001b[1;32m<ipython-input-126-793fb252ad72>\u001b[0m in \u001b[0;36mmain\u001b[1;34m(im, sigma, k, min_size)\u001b[0m\n\u001b[0;32m      5\u001b[0m \u001b[1;33m\u001b[0m\u001b[0m\n\u001b[0;32m      6\u001b[0m     \u001b[1;31m# save output and display segmentation\u001b[0m\u001b[1;33m\u001b[0m\u001b[1;33m\u001b[0m\u001b[0m\n\u001b[1;32m----> 7\u001b[1;33m     \u001b[0moutput\u001b[0m\u001b[1;33m,\u001b[0m \u001b[0mnum_css\u001b[0m \u001b[1;33m=\u001b[0m \u001b[0msegment_image\u001b[0m\u001b[1;33m(\u001b[0m\u001b[0minput\u001b[0m\u001b[1;33m,\u001b[0m \u001b[0msigma\u001b[0m\u001b[1;33m,\u001b[0m \u001b[0mk\u001b[0m\u001b[1;33m,\u001b[0m \u001b[0mmin_size\u001b[0m\u001b[1;33m)\u001b[0m\u001b[1;33m\u001b[0m\u001b[0m\n\u001b[0m\u001b[0;32m      8\u001b[0m     \u001b[0mprint\u001b[0m\u001b[1;33m(\u001b[0m\u001b[1;34m'Found %d components'\u001b[0m \u001b[1;33m%\u001b[0m \u001b[0mnum_css\u001b[0m\u001b[1;33m)\u001b[0m\u001b[1;33m\u001b[0m\u001b[0m\n\u001b[0;32m      9\u001b[0m     \u001b[0mdisplay_image\u001b[0m\u001b[1;33m(\u001b[0m\u001b[0moutput\u001b[0m\u001b[1;33m)\u001b[0m\u001b[1;33m\u001b[0m\u001b[0m\n",
      "\u001b[1;32m<ipython-input-123-e2a45aac79b2>\u001b[0m in \u001b[0;36msegment_image\u001b[1;34m(im, sigma, k, min_size)\u001b[0m\n\u001b[0;32m     21\u001b[0m             \u001b[1;32mif\u001b[0m \u001b[1;33m(\u001b[0m\u001b[0mx\u001b[0m \u001b[1;33m<\u001b[0m \u001b[0mW\u001b[0m \u001b[1;33m-\u001b[0m \u001b[1;36m1\u001b[0m \u001b[1;32mand\u001b[0m \u001b[0my\u001b[0m \u001b[1;33m>\u001b[0m \u001b[1;36m0\u001b[0m\u001b[1;33m)\u001b[0m\u001b[1;33m:\u001b[0m \u001b[0mG\u001b[0m\u001b[1;33m.\u001b[0m\u001b[0madd_edge\u001b[0m\u001b[1;33m(\u001b[0m\u001b[0my\u001b[0m\u001b[1;33m*\u001b[0m\u001b[0mW\u001b[0m \u001b[1;33m+\u001b[0m \u001b[0mx\u001b[0m\u001b[1;33m,\u001b[0m \u001b[1;33m(\u001b[0m\u001b[0my\u001b[0m\u001b[1;33m-\u001b[0m\u001b[1;36m1\u001b[0m\u001b[1;33m)\u001b[0m\u001b[1;33m*\u001b[0m\u001b[0mW\u001b[0m \u001b[1;33m+\u001b[0m \u001b[1;33m(\u001b[0m\u001b[0mx\u001b[0m \u001b[1;33m+\u001b[0m \u001b[1;36m1\u001b[0m\u001b[1;33m)\u001b[0m\u001b[1;33m,\u001b[0m \u001b[0mweight\u001b[0m\u001b[1;33m=\u001b[0m\u001b[0mdiff\u001b[0m\u001b[1;33m(\u001b[0m\u001b[0mr\u001b[0m\u001b[1;33m,\u001b[0m \u001b[0mg\u001b[0m\u001b[1;33m,\u001b[0m \u001b[0mb\u001b[0m\u001b[1;33m,\u001b[0m \u001b[0mx\u001b[0m\u001b[1;33m,\u001b[0m \u001b[0my\u001b[0m\u001b[1;33m,\u001b[0m \u001b[0mx\u001b[0m\u001b[1;33m+\u001b[0m\u001b[1;36m1\u001b[0m\u001b[1;33m,\u001b[0m \u001b[0my\u001b[0m\u001b[1;33m-\u001b[0m\u001b[1;36m1\u001b[0m\u001b[1;33m)\u001b[0m\u001b[1;33m)\u001b[0m\u001b[1;33m\u001b[0m\u001b[0m\n\u001b[0;32m     22\u001b[0m \u001b[1;33m\u001b[0m\u001b[0m\n\u001b[1;32m---> 23\u001b[1;33m     \u001b[0mu\u001b[0m\u001b[1;33m,\u001b[0m \u001b[0medge_list\u001b[0m \u001b[1;33m=\u001b[0m \u001b[0msegment_graph\u001b[0m\u001b[1;33m(\u001b[0m\u001b[0mG\u001b[0m\u001b[1;33m,\u001b[0m \u001b[0mk\u001b[0m\u001b[1;33m)\u001b[0m\u001b[1;33m\u001b[0m\u001b[0m\n\u001b[0m\u001b[0;32m     24\u001b[0m \u001b[1;33m\u001b[0m\u001b[0m\n\u001b[0;32m     25\u001b[0m     \u001b[1;31m# post process small components\u001b[0m\u001b[1;33m\u001b[0m\u001b[1;33m\u001b[0m\u001b[0m\n",
      "\u001b[1;32m<ipython-input-125-dacbe901d160>\u001b[0m in \u001b[0;36msegment_graph\u001b[1;34m(G, k)\u001b[0m\n\u001b[0;32m     30\u001b[0m                 \u001b[0mu\u001b[0m\u001b[1;33m.\u001b[0m\u001b[0mjoin\u001b[0m\u001b[1;33m(\u001b[0m\u001b[0ma\u001b[0m\u001b[1;33m,\u001b[0m \u001b[0mb\u001b[0m\u001b[1;33m)\u001b[0m\u001b[1;33m\u001b[0m\u001b[0m\n\u001b[0;32m     31\u001b[0m                 \u001b[0ma\u001b[0m \u001b[1;33m=\u001b[0m \u001b[0mu\u001b[0m\u001b[1;33m.\u001b[0m\u001b[0mfind\u001b[0m\u001b[1;33m(\u001b[0m\u001b[0ma\u001b[0m\u001b[1;33m)\u001b[0m\u001b[1;33m\u001b[0m\u001b[0m\n\u001b[1;32m---> 32\u001b[1;33m                 \u001b[0mL\u001b[0m\u001b[1;33m[\u001b[0m\u001b[0ma\u001b[0m\u001b[1;33m]\u001b[0m \u001b[1;33m=\u001b[0m \u001b[0mw\u001b[0m \u001b[1;33m+\u001b[0m \u001b[0mthreshold\u001b[0m\u001b[1;33m(\u001b[0m\u001b[0mu\u001b[0m\u001b[1;33m.\u001b[0m\u001b[0msize\u001b[0m\u001b[1;33m(\u001b[0m\u001b[0ma\u001b[0m\u001b[1;33m)\u001b[0m\u001b[1;33m,\u001b[0m \u001b[0mc\u001b[0m\u001b[1;33m)\u001b[0m\u001b[1;33m\u001b[0m\u001b[0m\n\u001b[0m\u001b[0;32m     33\u001b[0m \u001b[1;33m\u001b[0m\u001b[0m\n\u001b[0;32m     34\u001b[0m     \u001b[1;32mreturn\u001b[0m \u001b[0mu\u001b[0m\u001b[1;33m,\u001b[0m \u001b[0medges\u001b[0m\u001b[1;33m\u001b[0m\u001b[0m\n",
      "\u001b[1;31mTypeError\u001b[0m: 'list' object is not callable"
     ]
    }
   ],
   "source": [
    "# read input\n",
    "\n",
    "def main(im, sigma, k, min_size):\n",
    "    input = read_image(im)\n",
    "    \n",
    "    # save output and display segmentation\n",
    "    output, num_css = segment_image(input, sigma, k, min_size)\n",
    "    print('Found %d components' % num_css)\n",
    "    display_image(output)\n",
    "        \n",
    "\n",
    "main('img1.png', 0.5, 100, 50)"
   ]
  },
  {
   "cell_type": "code",
   "execution_count": null,
   "metadata": {
    "collapsed": true
   },
   "outputs": [],
   "source": []
  }
 ],
 "metadata": {
  "kernelspec": {
   "display_name": "Python 3",
   "language": "python",
   "name": "python3"
  },
  "language_info": {
   "codemirror_mode": {
    "name": "ipython",
    "version": 3
   },
   "file_extension": ".py",
   "mimetype": "text/x-python",
   "name": "python",
   "nbconvert_exporter": "python",
   "pygments_lexer": "ipython3",
   "version": "3.5.1"
  }
 },
 "nbformat": 4,
 "nbformat_minor": 0
}
