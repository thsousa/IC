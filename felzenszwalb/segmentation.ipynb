{
 "cells": [
  {
   "cell_type": "markdown",
   "metadata": {},
   "source": [
    "Thais Lima de Sousa\n",
    "\n",
    "# Efficient Graph-Based Image Segmentation\n",
    "## Falzenszwalb e Huttenlocher's algorithm"
   ]
  },
  {
   "cell_type": "code",
   "execution_count": 21,
   "metadata": {
    "collapsed": false
   },
   "outputs": [],
   "source": [
    "from vpi.io import *\n",
    "from vpi.filters import convolve, normalize\n",
    "import numpy as np\n",
    "import networkx as nx"
   ]
  },
  {
   "cell_type": "code",
   "execution_count": 22,
   "metadata": {
    "collapsed": false
   },
   "outputs": [],
   "source": [
    "# gaussian filter for image smoothing\n",
    "\n",
    "def create_gauss_kernel(sigma):\n",
    "    x = np.arange(- 4*sigma, 4*sigma + 1)\n",
    "    k = np.zeros((1, x.size))\n",
    "    length = int(np.ceil(8*sigma)) + 1\n",
    "    for i in range(length):\n",
    "        k[0][i] = np.exp(- x[i]**2 / 2*(sigma**2)) / (2*np.pi*(sigma**2))\n",
    "    k = k / k.sum()\n",
    "\n",
    "    return k\n",
    "\n",
    "def smooth(img, sigma=0.8):\n",
    "    kernel = create_gauss_kernel(sigma)  \n",
    "    g = convolve(img, kernel)\n",
    "    g = convolve(g, np.transpose(kernel))\n",
    "    return g"
   ]
  },
  {
   "cell_type": "code",
   "execution_count": 51,
   "metadata": {
    "collapsed": false
   },
   "outputs": [],
   "source": [
    "# disjoint-set forest with union rank and path compression\n",
    "\n",
    "class UF:\n",
    "\n",
    "    def __init__(self, n):\n",
    "        self.num = n\n",
    "        self.parent = list(range(n))\n",
    "        self.rank = [0 for i in range(n)]\n",
    "        self.size = [1 for i in range(n)]\n",
    "    \n",
    "    def find(self, v):\n",
    "        w = v\n",
    "        while(w != self.parent[w]):\n",
    "            w = self.parent[w]\n",
    "        self.parent[v] = w\n",
    "        return w\n",
    "    \n",
    "    def join(self, x, y):\n",
    "        if self.rank[x] > self.rank[y]:\n",
    "            self.parent[y] = x\n",
    "            self.size[x] += self.size[y]\n",
    "        \n",
    "        else:\n",
    "            self.parent[x] = y\n",
    "            self.size[y] += self.size[x]\n",
    "            if self.rank[x] == self.rank[y]:\n",
    "                self.rank[y] += 1\n",
    "        self.num -= 1\n",
    "        \n",
    "    def sizec(self, x):\n",
    "        return self.size[x]\n",
    "    \n",
    "    def num_sets(self):\n",
    "        return self.num"
   ]
  },
  {
   "cell_type": "code",
   "execution_count": 52,
   "metadata": {
    "collapsed": false
   },
   "outputs": [],
   "source": [
    "# graph segmentation\n",
    "\n",
    "def threshold(size, c):\n",
    "    return c/size\n",
    "\n",
    "def segment_graph(G, k):\n",
    "    V = len(G)\n",
    "    E = G.size()\n",
    "    c = 1.0*k\n",
    "    u = UF(V)\n",
    "    edges = list(G.edges_iter(data='weight'))\n",
    "    edges.sort(key=lambda w:w[2])\n",
    "    \n",
    "    # init thresholdings\n",
    "    L = [None]*V\n",
    "    for i in range(V):\n",
    "        L[i] = threshold(1.0, c)\n",
    "      \n",
    "    for i in range(V):\n",
    "        pedge = edges[i]\n",
    "        # components connected by this edge\n",
    "        a = u.find(pedge[0])\n",
    "        b = u.find(pedge[1])\n",
    "        w = pedge[2]\n",
    "        \n",
    "        if not a == b:\n",
    "            if w <= L[a] and w <= L[b]:\n",
    "                u.join(a, b)\n",
    "                a = u.find(a)\n",
    "                L[a] = w + threshold(u.sizec(a), c)\n",
    "                \n",
    "    return u, edges"
   ]
  },
  {
   "cell_type": "code",
   "execution_count": 53,
   "metadata": {
    "collapsed": true
   },
   "outputs": [],
   "source": [
    "def diff(r, g, b, x1, y1, x2, y2):\n",
    "    return np.sqrt(np.square(r[x1, y1] - r[x2, y2])\n",
    "                  + np.square(g[x1, y1] - g[x2, y2])\n",
    "                  + np.square(b[x1, y1] - b[x2, y2]))\n",
    "\n",
    "def segment_image(im, sigma, k, min_size):\n",
    "    H, W = im.shape[0:2]\n",
    "    r = smooth(im[:,:,0], sigma)\n",
    "    g = smooth(im[:,:,1], sigma)\n",
    "    b = smooth(im[:,:,2], sigma)\n",
    "    \n",
    "    # build weighted edges, 8-connected\n",
    "    G = nx.Graph()\n",
    "    H, W = r.shape[0:2]\n",
    "    \n",
    "    for y in range(H):\n",
    "        for x in range(W):            \n",
    "            if x < W - 1: G.add_edge(y*W + x, y*W + (x+1), weight=diff(r, g, b, x, y, x+1, y))\n",
    "            if y < H - 1: G.add_edge(y*W + x, (y+1)*W + x, weight=diff(r, g, b, x, y, x, y+1))\n",
    "            if (x < W - 1 and y < H - 1): G.add_edge(y*W + x, (y+1)*W + (x+1), weight=diff(r, g, b, x, y, x+1, y+1))\n",
    "            if (x < W - 1 and y > 0): G.add_edge(y*W + x, (y-1)*W + (x + 1), weight=diff(r, g, b, x, y, x+1, y-1))\n",
    "    \n",
    "    u, edge_list = segment_graph(G, k)\n",
    "    \n",
    "    # post process small components\n",
    "    for e in edge_list:\n",
    "        a = u.find(e[0])\n",
    "        b = u.find(e[1])\n",
    "        if (a != b and (u.sizec(a) < min_size) or u.sizec(b) < min_size):\n",
    "            u.join(a, b)\n",
    "        \n",
    "    num_ccs = u.num_sets()\n",
    "\n",
    "    # pick random colors for the components\n",
    "    colors = np.random.rand(3*H*W).reshape(H*W, 3)\n",
    "    output = im\n",
    "    \n",
    "    for y in range(H):\n",
    "        for x in range(W):\n",
    "            comp = u.find(y*W + x)\n",
    "            output[x, y] = colors[comp]    \n",
    "    \n",
    "    return output, num_ccs   "
   ]
  },
  {
   "cell_type": "code",
   "execution_count": 71,
   "metadata": {
    "collapsed": false
   },
   "outputs": [
    {
     "data": {
      "image/png": "[encoded data removed]",
      "text/plain": [
       "<IPython.core.display.Image object>"
      ]
     },
     "metadata": {},
     "output_type": "display_data"
    },
    {
     "name": "stdout",
     "output_type": "stream",
     "text": [
      "Found 252 components\n",
      "(128, 128, 3) (128, 128, 3)\n"
     ]
    },
    {
     "data": {
      "image/png": "[encoded data removed]",
      "text/plain": [
       "<IPython.core.display.Image object>"
      ]
     },
     "metadata": {},
     "output_type": "display_data"
    }
   ],
   "source": [
    "# read input\n",
    "\n",
    "def main(img_name, sigma, k, min_size):\n",
    "    img = read_image(img_name)\n",
    "    display_image(img)\n",
    "    # save output and display segmentation\n",
    "    output, num_css = segment_image(img, sigma, k, min_size)\n",
    "    print('Found %d components' % num_css)\n",
    "    print(output.shape, img.shape)\n",
    "    display_image(output)\n",
    "        \n",
    "main('img1.png', 0.5, 20, 10)"
   ]
  },
  {
   "cell_type": "code",
   "execution_count": null,
   "metadata": {
    "collapsed": true
   },
   "outputs": [],
   "source": []
  },
  {
   "cell_type": "code",
   "execution_count": null,
   "metadata": {
    "collapsed": true
   },
   "outputs": [],
   "source": []
  }
 ],
 "metadata": {
  "kernelspec": {
   "display_name": "Python 3",
   "language": "python",
   "name": "python3"
  },
  "language_info": {
   "codemirror_mode": {
    "name": "ipython",
    "version": 3
   },
   "file_extension": ".py",
   "mimetype": "text/x-python",
   "name": "python",
   "nbconvert_exporter": "python",
   "pygments_lexer": "ipython3",
   "version": "3.5.1"
  }
 },
 "nbformat": 4,
 "nbformat_minor": 0
}
