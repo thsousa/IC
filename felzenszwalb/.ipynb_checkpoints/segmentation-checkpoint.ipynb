{
 "cells": [
  {
   "cell_type": "markdown",
   "metadata": {},
   "source": [
    "Thais Lima de Sousa\n",
    "\n",
    "# Efficient Graph-Based Image Segmentation\n",
    "## Falzenszwalb e Huttenlocher's algorithm"
   ]
  },
  {
   "cell_type": "code",
   "execution_count": 4,
   "metadata": {
    "collapsed": false
   },
   "outputs": [],
   "source": [
    "from vpi.io import *\n",
    "from vpi.filters import convolve, normalize\n",
    "import numpy as np\n",
    "import sys\n",
    "import networkx as nx"
   ]
  },
  {
   "cell_type": "code",
   "execution_count": 2,
   "metadata": {
    "collapsed": true
   },
   "outputs": [],
   "source": [
    "# gaussian filter for image smoothing\n",
    "\n",
    "def create_gauss_kernel(sigma):\n",
    "    x = np.arange(- 4*sigma, 4*sigma + 1)\n",
    "    k = np.zeros((1, x.size))\n",
    "    for i in range(8*sigma + 1):\n",
    "        k[0][i] = np.exp(- x[i]**2 / 2*(sigma**2)) / (2*np.pi*(sigma**2))\n",
    "    k = k / k.sum()\n",
    "\n",
    "    return k\n",
    "\n",
    "def gauss(img, sigma=0.8):\n",
    "    kernel = create_gauss_kernel(sigma)  \n",
    "    g = convolve(img, kernel)\n",
    "    g = convolve(g, np.transpose(kernel))\n",
    "    return g"
   ]
  },
  {
   "cell_type": "code",
   "execution_count": null,
   "metadata": {
    "collapsed": true
   },
   "outputs": [],
   "source": [
    "def segment_image:\n",
    "    \n",
    "    "
   ]
  },
  {
   "cell_type": "code",
   "execution_count": 5,
   "metadata": {
    "collapsed": false
   },
   "outputs": [],
   "source": [
    "# disjoint-set forest with union rank and path compression\n",
    "\n"
   ]
  },
  {
   "cell_type": "code",
   "execution_count": null,
   "metadata": {
    "collapsed": true
   },
   "outputs": [],
   "source": [
    "# the method\n",
    "\n"
   ]
  },
  {
   "cell_type": "code",
   "execution_count": null,
   "metadata": {
    "collapsed": true
   },
   "outputs": [],
   "source": [
    "class InputException(Exception):\n",
    "    def __init__(self, msg):\n",
    "        self.msg = msg\n",
    "    def __str__(self):\n",
    "        return self.msg\n",
    "\n",
    "\n",
    "# read input\n",
    "\n",
    "def main:\n",
    "    if len(sys.argv) != 6: raise InputException('usage: %s sigma k min_size input_name output_name' % sys.argv[0])\n",
    "    sigma = float(sys.argv[1])\n",
    "    k = float(sys.argv[2])\n",
    "    min_size = int(sys.argv[3])\n",
    "    \n",
    "    input = read_image(sys.argv[4])\n",
    "    \n",
    "    \n",
    "    # save output and display segmentation   \n",
    "\n",
    "        \n",
    "        \n",
    "\n",
    "if __name__ == '__main__':\n",
    "    main()"
   ]
  }
 ],
 "metadata": {
  "kernelspec": {
   "display_name": "Python 3",
   "language": "python",
   "name": "python3"
  },
  "language_info": {
   "codemirror_mode": {
    "name": "ipython",
    "version": 3
   },
   "file_extension": ".py",
   "mimetype": "text/x-python",
   "name": "python",
   "nbconvert_exporter": "python",
   "pygments_lexer": "ipython3",
   "version": "3.5.1"
  }
 },
 "nbformat": 4,
 "nbformat_minor": 0
}
