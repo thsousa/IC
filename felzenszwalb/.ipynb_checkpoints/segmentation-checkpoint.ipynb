{
 "cells": [
  {
   "cell_type": "markdown",
   "metadata": {},
   "source": [
    "Thais Lima de Sousa\n",
    "\n",
    "# Efficient Graph-Based Image Segmentation\n",
    "## Falzenszwalb e Huttenlocher's algorithm"
   ]
  },
  {
   "cell_type": "code",
   "execution_count": 10,
   "metadata": {
    "collapsed": false
   },
   "outputs": [],
   "source": [
    "from vpi.io import *\n",
    "from vpi.filters import convolve, normalize\n",
    "import numpy as np\n",
    "import sys\n",
    "import networkx as nx"
   ]
  },
  {
   "cell_type": "code",
   "execution_count": 21,
   "metadata": {
    "collapsed": true
   },
   "outputs": [],
   "source": [
    "# gaussian filter for image smoothing\n",
    "\n",
    "def create_gauss_kernel(sigma):\n",
    "    x = np.arange(- 4*sigma, 4*sigma + 1)\n",
    "    k = np.zeros((1, x.size))\n",
    "    length = int(np.ceil(8*sigma) + 1\n",
    "    for i in range(length):\n",
    "        k[0][i] = np.exp(- x[i]**2 / 2*(sigma**2)) / (2*np.pi*(sigma**2))\n",
    "    k = k / k.sum()\n",
    "\n",
    "    return k\n",
    "\n",
    "def smooth(img, sigma=0.8):\n",
    "    kernel = create_gauss_kernel(sigma)  \n",
    "    g = convolve(img, kernel)\n",
    "    g = convolve(g, np.transpose(kernel))\n",
    "    return g"
   ]
  },
  {
   "cell_type": "code",
   "execution_count": 5,
   "metadata": {
    "collapsed": false
   },
   "outputs": [],
   "source": [
    "# disjoint-set forest with union rank and path compression\n",
    "\n",
    "class UF:\n",
    "    num = 0\n",
    "\n",
    "    def __init__(self, n):\n",
    "        num = n\n",
    "        self.parent = list(range(n))\n",
    "        self.rank = [0 for i in range(n)]\n",
    "        self.size = [1 for i in range(n)]\n",
    "    \n",
    "    def find(self, v):\n",
    "        w = v\n",
    "        while(w != self.parent[w]):\n",
    "            w = self.parent[w]\n",
    "        self.parent[v] = w\n",
    "        return w\n",
    "    \n",
    "    def join(self, x, y):\n",
    "        if self.rank[x] > self.rank[y]:\n",
    "            self.parent[y] = x\n",
    "            self.size[x] += self.size[y]\n",
    "        \n",
    "        else:\n",
    "            self.parent[x] = y\n",
    "            self.size[y] += self.size[x]\n",
    "            if self.rank[x] == self.rank[y]:\n",
    "                self.rank[y]++\n",
    "        num--\n",
    "        \n",
    "    def size(self, x):\n",
    "        return self.size[x]\n",
    "        "
   ]
  },
  {
   "cell_type": "code",
   "execution_count": null,
   "metadata": {
    "collapsed": true
   },
   "outputs": [],
   "source": [
    "# graph segmentation"
   ]
  },
  {
   "cell_type": "code",
   "execution_count": 11,
   "metadata": {
    "collapsed": true
   },
   "outputs": [],
   "source": [
    "def pixel_to_vertex(x, y):\n",
    "    # int correspondente à posição na matriz\n",
    "\n",
    "def segment_image(im, sigma, k, min_size, num_ccs):\n",
    "    H, W = im.shape[0:2]\n",
    "    r = smooth(im[:,:,0])\n",
    "    g = smooth(im[:,:,1])\n",
    "    b = smooth(im[:,:,2])\n",
    "    \n",
    "    # build weighted edges\n",
    "    "
   ]
  },
  {
   "cell_type": "code",
   "execution_count": null,
   "metadata": {
    "collapsed": true
   },
   "outputs": [],
   "source": [
    "class InputException(Exception):\n",
    "    def __init__(self, msg):\n",
    "        self.msg = msg\n",
    "    def __str__(self):\n",
    "        return self.msg\n",
    "\n",
    "\n",
    "# read input\n",
    "\n",
    "def main:\n",
    "    if len(sys.argv) != 6: raise InputException('usage: %s sigma k min_size input_name output_name' % sys.argv[0])\n",
    "    sigma = float(sys.argv[1])\n",
    "    k = float(sys.argv[2])\n",
    "    min_size = int(sys.argv[3])\n",
    "    input = read_image(sys.argv[4])\n",
    "    \n",
    "    num_ccs = 0    \n",
    "    # save output and display segmentation\n",
    "    # output = segment_image(input, sigma, k, min_size, num_ccs)\n",
    "\n",
    "        \n",
    "        \n",
    "\n",
    "if __name__ == '__main__':\n",
    "    main()"
   ]
  },
  {
   "cell_type": "code",
   "execution_count": 22,
   "metadata": {
    "collapsed": false
   },
   "outputs": [
    {
     "name": "stdout",
     "output_type": "stream",
     "text": [
      "(128, 128)\n",
      "[[ 22.5832013   23.53827691  22.3865631  ...,  21.17944277  19.72346046\n",
      "   15.40162235]\n",
      " [ 22.64069419  24.74961927  24.63697296 ...,  23.97840821  22.33001082\n",
      "   17.43702098]\n",
      " [ 21.78998999  24.46698879  24.94437595 ...,  24.62067588  22.92812575\n",
      "   17.90407595]\n",
      " ..., \n",
      " [ 21.17944277  23.97840821  24.62067588 ...,  24.40041385  22.72300565\n",
      "   17.74390211]\n",
      " [ 19.72346046  22.33001082  22.92812575 ...,  22.72300565  21.160911\n",
      "   16.52409629]\n",
      " [ 15.40162235  17.43702098  17.90407595 ...,  17.74390211  16.52409629\n",
      "   12.90330828]]\n"
     ]
    }
   ],
   "source": [
    "f = read_image(\"img1.png\")\n",
    "print(smooth(f[:,:,0]))"
   ]
  },
  {
   "cell_type": "code",
   "execution_count": null,
   "metadata": {
    "collapsed": true
   },
   "outputs": [],
   "source": []
  }
 ],
 "metadata": {
  "kernelspec": {
   "display_name": "Python 3",
   "language": "python",
   "name": "python3"
  },
  "language_info": {
   "codemirror_mode": {
    "name": "ipython",
    "version": 3
   },
   "file_extension": ".py",
   "mimetype": "text/x-python",
   "name": "python",
   "nbconvert_exporter": "python",
   "pygments_lexer": "ipython3",
   "version": "3.5.1"
  }
 },
 "nbformat": 4,
 "nbformat_minor": 0
}
